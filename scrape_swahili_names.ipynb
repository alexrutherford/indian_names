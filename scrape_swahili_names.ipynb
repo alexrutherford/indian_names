{
 "metadata": {
  "name": "",
  "signature": "sha256:7595f043739dce9404baa778830cef0174acdf6755fdd6d185365f2ddb92540a"
 },
 "nbformat": 3,
 "nbformat_minor": 0,
 "worksheets": [
  {
   "cells": [
    {
     "cell_type": "code",
     "collapsed": false,
     "input": [
      "from bs4 import BeautifulSoup\n",
      "import re,csv"
     ],
     "language": "python",
     "metadata": {},
     "outputs": [],
     "prompt_number": 1
    },
    {
     "cell_type": "markdown",
     "metadata": {},
     "source": [
      "Raw pages grabbed from [Behind the Names](http://www.behindthename.com/names/usage/indian)"
     ]
    },
    {
     "cell_type": "code",
     "collapsed": false,
     "input": [
      "with open('swahili_names.html','r') as f:\n",
      "    text=f.read().decode('utf-8','ignore')"
     ],
     "language": "python",
     "metadata": {},
     "outputs": [],
     "prompt_number": 2
    },
    {
     "cell_type": "markdown",
     "metadata": {},
     "source": [
      "Function to ensure we grab the important parts 1. gender ('m'/'f') and 2. all Hindi spellings"
     ]
    },
    {
     "cell_type": "code",
     "collapsed": false,
     "input": [
      "def getRightParts(parts):\n",
      "    outParts=[]\n",
      "    for p,pp in enumerate(parts):\n",
      "        if p==0:outParts.append(pp)\n",
      "        # First part is always Latin version of name\n",
      "        if len(pp)>1:outParts.append(pp.strip(','))\n",
      "        # Might be several comma seperated Hindi versions of name\n",
      "        if pp in [u'm','f']:\n",
      "            outParts.append(pp)\n",
      "            \n",
      "            return [p for p in outParts if not re.search(r'[0-9]',p)]"
     ],
     "language": "python",
     "metadata": {},
     "outputs": [],
     "prompt_number": 31
    },
    {
     "cell_type": "code",
     "collapsed": false,
     "input": [
      "outFile=csv.writer(open('swahili_names.csv','w'),delimiter='\\t')\n",
      "\n",
      "tt=BeautifulSoup(text)\n",
      "extractParts(tt,outFile)"
     ],
     "language": "python",
     "metadata": {},
     "outputs": [
      {
       "output_type": "stream",
       "stream": "stdout",
       "text": [
        "ASHA\n",
        "f\n",
        "\u00a0\n",
        "CHAUSIKU\n",
        "f\n",
        "\u00a0\n",
        "ESHE\n",
        "f\n",
        "\u00a0\n",
        "FARAJI\n",
        "m\n",
        "\u00a0\n",
        "FURAHA\n",
        "f\n",
        "\u00a0\n",
        "IMAMU\n",
        "m\n",
        "\u00a0\n",
        "IMANI\n",
        "f\n",
        "&\n",
        "JELANI\n",
        "m\n",
        "\u00a0\n",
        "JENGO\n",
        "m\n",
        "\u00a0\n",
        "JUMAANE\n",
        "m\n",
        "\u00a0\n",
        "KAMARIA\n",
        "f\n",
        "\u00a0\n",
        "KHAMISI\n",
        "m\n",
        "\u00a0\n",
        "KIBWE\n",
        "m\n",
        "\u00a0\n",
        "MARJANI\n",
        "f\n",
        "\u00a0\n",
        "MCHUMBA\n",
        "f\n",
        "\u00a0\n",
        "MOSI\n",
        "m\n",
        "\u00a0\n",
        "MWANAJUMA\n",
        "f\n",
        "\u00a0\n",
        "MWENYE\n",
        "m\n",
        "\u00a0\n",
        "NIA\n",
        "f\n",
        "\u00a0\n",
        "NURU\n",
        "f\n",
        "\u00a0\n",
        "NYAH\n",
        "f\n",
        "\u00a0\n",
        "SANAA\n",
        "f\n",
        "\u00a0\n",
        "SAUDA\n",
        "f\n",
        "\u00a0\n",
        "SEFU\n",
        "m\n",
        "\u00a0\n",
        "SIMBA\n",
        "m\n",
        "\u00a0\n",
        "SUBIRA\n",
        "f\n",
        "\u00a0\n",
        "TENDAJI\n",
        "m\n",
        "\u00a0\n",
        "ZUBERI\n",
        "m\n",
        "\u00a0\n",
        "ZURI\n",
        "f\n",
        "\u00a0\n"
       ]
      }
     ],
     "prompt_number": 32
    },
    {
     "cell_type": "markdown",
     "metadata": {},
     "source": [
      "Use Beautiful Soup to grab all elements with class '_browsename'"
     ]
    },
    {
     "cell_type": "code",
     "collapsed": false,
     "input": [
      "def extractParts(text,outFile):\n",
      "    v=False\n",
      "    # Print to screen\n",
      "    \n",
      "    for e in tt.findAll(class_='browsename'):\n",
      "        entry=e.text\n",
      "        parts=entry.split(' ')\n",
      "        parts=[p for p in parts if not p in [u'',u' ']]\n",
      "            \n",
      "        print parts[0]\n",
      "        \n",
      "        for p,pp in enumerate(parts):\n",
      "            if pp in [u'f',u'm']:\n",
      "                print pp\n",
      "                print parts[p+1]\n",
      "                if parts[p+1]==u'&':\n",
      "                    pp=u'unisex'\n",
      "                outFile.writerow([parts[0].encode('utf-8'),pp])\n",
      "                break"
     ],
     "language": "python",
     "metadata": {},
     "outputs": [],
     "prompt_number": 30
    },
    {
     "cell_type": "code",
     "collapsed": false,
     "input": [],
     "language": "python",
     "metadata": {},
     "outputs": []
    }
   ],
   "metadata": {}
  }
 ]
}