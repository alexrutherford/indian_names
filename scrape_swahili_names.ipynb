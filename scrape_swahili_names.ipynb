{
 "metadata": {
  "name": "",
  "signature": "sha256:d50d8301ca011a008b2d36e1005934f3404b926e122405aa39b4f12b6ca26578"
 },
 "nbformat": 3,
 "nbformat_minor": 0,
 "worksheets": [
  {
   "cells": [
    {
     "cell_type": "code",
     "collapsed": false,
     "input": [
      "from bs4 import BeautifulSoup\n",
      "import re,csv"
     ],
     "language": "python",
     "metadata": {},
     "outputs": [],
     "prompt_number": 1
    },
    {
     "cell_type": "markdown",
     "metadata": {},
     "source": [
      "Raw pages grabbed from [Behind the Names](http://www.behindthename.com/names/usage/indian)"
     ]
    },
    {
     "cell_type": "code",
     "collapsed": false,
     "input": [
      "with open('swahili_names.html','r') as f:\n",
      "    text=f.read().decode('utf-8','ignore')"
     ],
     "language": "python",
     "metadata": {},
     "outputs": [],
     "prompt_number": 3
    },
    {
     "cell_type": "markdown",
     "metadata": {},
     "source": [
      "Function to ensure we grab the important parts 1. gender ('m'/'f') and 2. all Hindi spellings"
     ]
    },
    {
     "cell_type": "code",
     "collapsed": false,
     "input": [
      "def getRightParts(parts):\n",
      "    outParts=[]\n",
      "    for p,pp in enumerate(parts):\n",
      "        if p==0:outParts.append(pp)\n",
      "        # First part is always Latin version of name\n",
      "        if len(pp)>1:outParts.append(pp.strip(','))\n",
      "        # Might be several comma seperated Hindi versions of name\n",
      "        if pp in [u'm','f']:\n",
      "            outParts.append(pp)\n",
      "            return [p for p in outParts if not re.search(r'[0-9]',p)]"
     ],
     "language": "python",
     "metadata": {},
     "outputs": [],
     "prompt_number": 8
    },
    {
     "cell_type": "code",
     "collapsed": false,
     "input": [
      "outFile=csv.writer(open('swahili_names.csv','w'),delimiter='\\t')\n",
      "\n",
      "tt=BeautifulSoup(text)\n",
      "extractParts(tt,outFile)"
     ],
     "language": "python",
     "metadata": {},
     "outputs": [
      {
       "output_type": "stream",
       "stream": "stdout",
       "text": [
        "ASHA\n",
        "f\n",
        "CHAUSIKU\n",
        "f\n",
        "ESHE\n",
        "f\n",
        "FARAJI\n",
        "m\n",
        "FURAHA\n",
        "f\n",
        "IMAMU\n",
        "m\n",
        "IMANI\n",
        "f\n",
        "JELANI\n",
        "m\n",
        "JENGO\n",
        "m\n",
        "JUMAANE\n",
        "m\n",
        "KAMARIA\n",
        "f\n",
        "KHAMISI\n",
        "m\n",
        "KIBWE\n",
        "m\n",
        "MARJANI\n",
        "f\n",
        "MCHUMBA\n",
        "f\n",
        "MOSI\n",
        "m\n",
        "MWANAJUMA\n",
        "f\n",
        "MWENYE\n",
        "m\n",
        "NIA\n",
        "f\n",
        "NURU\n",
        "f\n",
        "NYAH\n",
        "f\n",
        "SANAA\n",
        "f\n",
        "SAUDA\n",
        "f\n",
        "SEFU\n",
        "m\n",
        "SIMBA\n",
        "m\n",
        "SUBIRA\n",
        "f\n",
        "TENDAJI\n",
        "m\n",
        "ZUBERI\n",
        "m\n",
        "ZURI\n",
        "f\n"
       ]
      }
     ],
     "prompt_number": 17
    },
    {
     "cell_type": "markdown",
     "metadata": {},
     "source": [
      "Use Beautiful Soup to grab all elements with class '_browsename'"
     ]
    },
    {
     "cell_type": "code",
     "collapsed": false,
     "input": [
      "def extractParts(text,outFile):\n",
      "    v=False\n",
      "    # Print to screen\n",
      "    \n",
      "    for e in tt.findAll(class_='browsename'):\n",
      "        entry=e.text\n",
      "        parts=entry.split(' ')\n",
      "        parts=[p for p in parts if not p in [u'',u' ']]\n",
      "            \n",
      "        print parts[0]\n",
      "        \n",
      "        for p,pp in enumerate(parts):\n",
      "            if pp in [u'f',u'm']:\n",
      "                print pp\n",
      "                outFile.writerow([parts[0].encode('utf-8'),pp])\n",
      "                break"
     ],
     "language": "python",
     "metadata": {},
     "outputs": [],
     "prompt_number": 16
    },
    {
     "cell_type": "code",
     "collapsed": false,
     "input": [],
     "language": "python",
     "metadata": {},
     "outputs": []
    }
   ],
   "metadata": {}
  }
 ]
}