{
 "metadata": {
  "name": "",
  "signature": "sha256:806b227ad01309f7ace0ba93abbd6dde3479babf71917483d826234a5c1ed8f1"
 },
 "nbformat": 3,
 "nbformat_minor": 0,
 "worksheets": [
  {
   "cells": [
    {
     "cell_type": "code",
     "collapsed": false,
     "input": [
      "from bs4 import BeautifulSoup\n",
      "import re,csv"
     ],
     "language": "python",
     "metadata": {},
     "outputs": [],
     "prompt_number": 26
    },
    {
     "cell_type": "markdown",
     "metadata": {},
     "source": [
      "Raw pages grabbed from [Behind the Names](http://www.behindthename.com/names/usage/indian)"
     ]
    },
    {
     "cell_type": "code",
     "collapsed": false,
     "input": [
      "with open('Indian_names_1.html','r') as f:\n",
      "    text=f.read().decode('utf-8','ignore')\n",
      "with open('Indian_names_2.html','r') as f:\n",
      "    text2=f.read().decode('utf-8','ignore')"
     ],
     "language": "python",
     "metadata": {},
     "outputs": [],
     "prompt_number": 37
    },
    {
     "cell_type": "markdown",
     "metadata": {},
     "source": [
      "Function to ensure we grab the important parts 1. gender ('m'/'f') and 2. all Hindi spellings"
     ]
    },
    {
     "cell_type": "code",
     "collapsed": false,
     "input": [
      "def getRightParts(parts):\n",
      "    outParts=[]\n",
      "    for p,pp in enumerate(parts):\n",
      "        if p==0:outParts.append(pp)\n",
      "        # First part is always Latin version of name\n",
      "        if len(pp)>1:outParts.append(pp.strip(','))\n",
      "        # Might be several comma seperated Hindi versions of name\n",
      "        if pp in [u'm','f']:\n",
      "            outParts.append(pp)\n",
      "            return [p for p in outParts if not re.search(r'[0-9]',p)]"
     ],
     "language": "python",
     "metadata": {},
     "outputs": [],
     "prompt_number": 38
    },
    {
     "cell_type": "code",
     "collapsed": false,
     "input": [
      "outFile=csv.writer(open('indian_names.csv','w'),delimiter='\\t')\n",
      "\n",
      "tt=BeautifulSoup(text)\n",
      "extractParts(tt,outFile)\n",
      "\n",
      "tt=BeautifulSoup(text2)\n",
      "extractParts(tt,outFile)\n"
     ],
     "language": "python",
     "metadata": {},
     "outputs": [],
     "prompt_number": 42
    },
    {
     "cell_type": "markdown",
     "metadata": {},
     "source": [
      "Use Beautiful Soup to grab all elements with class '_browsename'"
     ]
    },
    {
     "cell_type": "code",
     "collapsed": false,
     "input": [
      "def extractParts(text,outFile):\n",
      "    for e in tt.findAll(class_='browsename'):\n",
      "        entry=e.text\n",
      "        parts=entry.split(' ')\n",
      "        parts=[p for p in parts if not p in [u'',u' ']]\n",
      "        parts=getRightParts(parts)\n",
      "\n",
      "        if u'f' in parts or u'm' in parts and len(parts)>4:\n",
      "            # Check it found a gender\n",
      "            outList=[parts[-1],'|'.join(parts[2:-1]).encode('utf-8')]\n",
      "            # Write gender and combine alternative hindi spellings\n",
      "            if len(outList[1])>1:outFile.writerow(outList)\n",
      "            # Some names don't have Hindi spellings, ignore for now"
     ],
     "language": "python",
     "metadata": {},
     "outputs": [],
     "prompt_number": 41
    }
   ],
   "metadata": {}
  }
 ]
}