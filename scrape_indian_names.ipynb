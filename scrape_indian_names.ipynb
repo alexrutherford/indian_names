{
 "metadata": {
  "name": "",
  "signature": "sha256:62ac32f09ead0b3fd4740aced69cbf6685779987138e8f2cb0829f22159183c9"
 },
 "nbformat": 3,
 "nbformat_minor": 0,
 "worksheets": [
  {
   "cells": [
    {
     "cell_type": "code",
     "collapsed": false,
     "input": [
      "from bs4 import BeautifulSoup\n",
      "import re,csv"
     ],
     "language": "python",
     "metadata": {},
     "outputs": [],
     "prompt_number": 1
    },
    {
     "cell_type": "markdown",
     "metadata": {},
     "source": [
      "Raw pages grabbed from [Behind the Names](http://www.behindthename.com/names/usage/indian)"
     ]
    },
    {
     "cell_type": "code",
     "collapsed": false,
     "input": [
      "with open('Indian_names_1.html','r') as f:\n",
      "    text=f.read().decode('utf-8','ignore')\n",
      "with open('Indian_names_2.html','r') as f:\n",
      "    text2=f.read().decode('utf-8','ignore')"
     ],
     "language": "python",
     "metadata": {},
     "outputs": [],
     "prompt_number": 2
    },
    {
     "cell_type": "markdown",
     "metadata": {},
     "source": [
      "Function to ensure we grab the important parts 1. gender ('m'/'f') and 2. all Hindi spellings"
     ]
    },
    {
     "cell_type": "code",
     "collapsed": false,
     "input": [
      "def getRightParts(parts):\n",
      "    outParts=[]\n",
      "#    print parts\n",
      "    for p,pp in enumerate(parts):\n",
      "        if p==0:outParts.append(pp)\n",
      "        # First part is always Latin version of name\n",
      "        if len(pp)>1:outParts.append(pp.strip(','))\n",
      "        # Might be several comma seperated Hindi versions of name\n",
      "        if pp in [u'm','f']:\n",
      "            outParts.append(pp)\n",
      "            if parts[p+1]==u'&':\n",
      "            # If line is 'm & f' or 'f & m' mark as unisexs\n",
      "                print 'UNISEX'\n",
      "#                print parts\n",
      "                print ''\n",
      "                outParts[-1]=u'unisex'\n",
      "                print outParts\n",
      "            \n",
      "            return [p for p in outParts if not re.search(r'[0-9]',p)]"
     ],
     "language": "python",
     "metadata": {},
     "outputs": [],
     "prompt_number": 26
    },
    {
     "cell_type": "code",
     "collapsed": false,
     "input": [
      "outFile=csv.writer(open('indian_names.csv','w'),delimiter='\\t')\n",
      "\n",
      "tt=BeautifulSoup(text)\n",
      "extractParts(tt,outFile)\n",
      "\n",
      "tt=BeautifulSoup(text2)\n",
      "extractParts(tt,outFile)\n"
     ],
     "language": "python",
     "metadata": {},
     "outputs": [
      {
       "output_type": "stream",
       "stream": "stdout",
       "text": [
        "UNISEX\n",
        "\n",
        "[u'ANANTA', u'ANANTA', u'\\u0905\\u0928\\u0928\\u094d\\u0924', u'\\u0905\\u0928\\u0902\\u0924', u'\\u0905\\u0928\\u0928\\u094d\\u0924\\u093e', u'\\u0905\\u0928\\u0902\\u0924\\u093e', u'unisex']\n",
        "UNISEX\n",
        "\n",
        "[u'ANANTHA', u'ANANTHA', u'\\u0905\\u0928\\u0928\\u094d\\u0924', u'\\u0905\\u0928\\u0902\\u0924', u'\\u0905\\u0928\\u0928\\u094d\\u0924\\u093e', u'\\u0905\\u0928\\u0902\\u0924\\u093e', u'unisex']\n",
        "UNISEX\n",
        "\n",
        "[u'ARYA', u'ARYA', u'\\u0906\\u0930\\u092f', u'\\u0906\\u0930\\u092f\\u093e', u'unisex']\n",
        "UNISEX\n",
        "\n",
        "[u'BALA', u'BALA', u'\\u092c\\u093e\\u0932', u'\\u092c\\u093e\\u0932\\u093e', u'unisex']\n",
        "UNISEX\n",
        "\n",
        "[u'CHANDA', u'CHANDA', u'\\u091a\\u0923\\u094d\\u0921', u'\\u091a\\u0923\\u094d\\u0921\\u093e', u'unisex']\n",
        "UNISEX\n",
        "\n",
        "[u'CHANDRA', u'CHANDRA', u'\\u091a\\u0928\\u094d\\u0926\\u094d\\u0930', u'\\u091a\\u0928\\u094d\\u0926\\u094d\\u0930\\u093e', u'unisex']\n",
        "UNISEX\n",
        "\n",
        "[u'GULSHAN', u'GULSHAN', u'\\u0917\\u0941\\u0932\\u0936\\u0928', u'unisex']\n",
        "UNISEX\n",
        "\n",
        "[u'INDERJIT', u'INDERJIT', u'unisex']\n",
        "UNISEX\n",
        "\n",
        "[u'JASWINDER', u'JASWINDER', u'unisex']\n",
        "UNISEX\n",
        "\n",
        "[u'JAYA', u'JAYA', u'\\u091c\\u092f\\u093e', u'\\u091c\\u092f', u'unisex']\n",
        "UNISEX\n",
        "\n",
        "[u'JYOTHI', u'JYOTHI', u'unisex']\n",
        "UNISEX\n",
        "\n",
        "[u'JYOTI', u'JYOTI', u'\\u091c\\u094d\\u092f\\u094b\\u0924\\u093f', u'unisex']\n",
        "UNISEX\n",
        "\n",
        "[u'KAMALA', u'KAMALA', u'\\u0915\\u092e\\u0932\\u093e', u'\\u0915\\u092e\\u0932', u'unisex']\n",
        "UNISEX\n",
        "\n",
        "[u'KIRAN', u'KIRAN', u'\\u0915\\u093f\\u0930\\u0923', u'unisex']\n",
        "UNISEX\n",
        "\n",
        "[u'LALITA', u'LALITA', u'\\u0932\\u0932\\u093f\\u0924\\u093e', u'\\u0932\\u0932\\u093f\\u0924', u'unisex']\n",
        "UNISEX\n",
        "\n",
        "[u'MADHU', u'MADHU', u'\\u092e\\u0927\\u0941', u'unisex']\n",
        "UNISEX\n",
        "\n",
        "[u'MADHUR', u'MADHUR', u'\\u092e\\u0927\\u0941\\u0930', u'unisex']\n",
        "UNISEX\n",
        "\n",
        "[u'MANDEEP', u'MANDEEP', u'unisex']\n",
        "UNISEX\n",
        "\n",
        "[u'MITRA', u'MITRA', u'(1)', u'\\u092e\\u093f\\u0924\\u094d\\u0930\\u093e', u'\\u092e\\u093f\\u0924\\u094d\\u0930', u'unisex']\n",
        "UNISEX\n",
        "\n",
        "[u'MOHANA', u'MOHANA', u'\\u092e\\u094b\\u0939\\u0928', u'\\u092e\\u094b\\u0939\\u0928\\u093e', u'unisex']\n",
        "UNISEX"
       ]
      },
      {
       "output_type": "stream",
       "stream": "stdout",
       "text": [
        "\n",
        "\n",
        "[u'NEELAM', u'NEELAM', u'\\u0928\\u0940\\u0932\\u092e', u'unisex']\n",
        "UNISEX\n",
        "\n",
        "[u'NILAM', u'NILAM', u'\\u0928\\u0940\\u0932\\u092e', u'unisex']\n",
        "UNISEX\n",
        "\n",
        "[u'NITHYA', u'NITHYA', u'\\u0928\\u093f\\u0924\\u094d\\u092f', u'\\u0928\\u093f\\u0924\\u094d\\u092f\\u093e', u'unisex']\n",
        "UNISEX\n",
        "\n",
        "[u'NITYA', u'NITYA', u'\\u0928\\u093f\\u0924\\u094d\\u092f', u'\\u0928\\u093f\\u0924\\u094d\\u092f\\u093e', u'unisex']\n",
        "UNISEX\n",
        "\n",
        "[u'PADMA', u'PADMA', u'\\u092a\\u0926\\u094d\\u092e', u'\\u092a\\u0926\\u094d\\u092e\\u093e', u'unisex']\n",
        "UNISEX\n",
        "\n",
        "[u'RATNA', u'RATNA', u'\\u0930\\u0924\\u094d\\u0928', u'\\u0930\\u0924\\u094d\\u0928\\u093e', u'unisex']\n",
        "UNISEX\n",
        "\n",
        "[u'RAVINDER', u'RAVINDER', u'unisex']\n",
        "UNISEX\n",
        "\n",
        "[u'ROSHAN', u'ROSHAN', u'unisex']\n",
        "UNISEX\n",
        "\n",
        "[u'SASHI', u'SASHI', u'\\u0936\\u0936\\u093f', u'\\u0936\\u0936\\u0940', u'unisex']\n",
        "UNISEX\n",
        "\n",
        "[u'SHASHI', u'SHASHI', u'\\u0936\\u0936\\u093f', u'\\u0936\\u0936\\u0940', u'unisex']\n",
        "UNISEX\n",
        "\n",
        "[u'SHYAMA', u'SHYAMA', u'\\u0936\\u094d\\u092f\\u093e\\u092e', u'\\u0936\\u094d\\u092f\\u093e\\u092e\\u093e', u'unisex']\n",
        "UNISEX\n",
        "\n",
        "[u'SUSHILA', u'SUSHILA', u'\\u0938\\u0941\\u0936\\u0940\\u0932\\u093e', u'\\u0938\\u0941\\u0936\\u0940\\u0932', u'unisex']\n",
        "UNISEX\n",
        "\n",
        "[u'SWAPNA', u'SWAPNA', u'\\u0938\\u094d\\u0935\\u092a\\u094d\\u0928', u'\\u0938\\u094d\\u0935\\u092a\\u094d\\u0928\\u093e', u'unisex']\n",
        "UNISEX\n",
        "\n",
        "[u'SWARNA', u'SWARNA', u'\\u0938\\u094d\\u0935\\u0930\\u094d\\u0923', u'\\u0938\\u094d\\u0935\\u0930\\u094d\\u0923\\u093e', u'unisex']\n",
        "UNISEX\n",
        "\n",
        "[u'VIJAYA', u'VIJAYA', u'\\u0935\\u093f\\u091c\\u092f', u'\\u0935\\u093f\\u091c\\u092f\\u093e', u'unisex']\n"
       ]
      }
     ],
     "prompt_number": 28
    },
    {
     "cell_type": "markdown",
     "metadata": {},
     "source": [
      "Use Beautiful Soup to grab all elements with class '_browsename'"
     ]
    },
    {
     "cell_type": "code",
     "collapsed": false,
     "input": [
      "def extractParts(text,outFile):\n",
      "    for e in tt.findAll(class_='browsename'):\n",
      "        entry=e.text\n",
      "        parts=entry.split(' ')\n",
      "        parts=[p for p in parts if not p in [u'',u' ']]\n",
      "        parts=getRightParts(parts)\n",
      "\n",
      "        if u'f' in parts or u'm' or u'unisex' in parts and len(parts)>4:\n",
      "            # Check it found a gender\n",
      "            outList=[parts[-1],'|'.join(parts[2:-1]).encode('utf-8')]\n",
      "            # Write gender and combine alternative hindi spellings\n",
      "            if len(outList[1])>1:outFile.writerow(outList)\n",
      "            # Some names don't have Hindi spellings, ignore for now"
     ],
     "language": "python",
     "metadata": {},
     "outputs": [],
     "prompt_number": 27
    },
    {
     "cell_type": "code",
     "collapsed": false,
     "input": [],
     "language": "python",
     "metadata": {},
     "outputs": []
    }
   ],
   "metadata": {}
  }
 ]
}