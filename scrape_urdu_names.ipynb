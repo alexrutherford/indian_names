{
 "metadata": {
  "name": "",
  "signature": "sha256:513b89a8f2e33139da0981c4c19732eb18ee7416120dba4a585b28639499aac5"
 },
 "nbformat": 3,
 "nbformat_minor": 0,
 "worksheets": [
  {
   "cells": [
    {
     "cell_type": "code",
     "collapsed": false,
     "input": [
      "from bs4 import BeautifulSoup\n",
      "import re,csv"
     ],
     "language": "python",
     "metadata": {},
     "outputs": [],
     "prompt_number": 1
    },
    {
     "cell_type": "markdown",
     "metadata": {},
     "source": [
      "Raw pages grabbed from [Behind the Names](http://www.behindthename.com/names/usage/indian)"
     ]
    },
    {
     "cell_type": "code",
     "collapsed": false,
     "input": [
      "with open('urdu_names_1.html','r') as f:\n",
      "    text=f.read().decode('utf-8','ignore')"
     ],
     "language": "python",
     "metadata": {},
     "outputs": [],
     "prompt_number": 2
    },
    {
     "cell_type": "markdown",
     "metadata": {},
     "source": [
      "Function to ensure we grab the important parts 1. gender ('m'/'f') and 2. all Hindi spellings"
     ]
    },
    {
     "cell_type": "code",
     "collapsed": false,
     "input": [
      "def getRightParts(parts):\n",
      "    outParts=[]\n",
      "    for p,pp in enumerate(parts):\n",
      "        if p==0:outParts.append(pp)\n",
      "        # First part is always Latin version of name\n",
      "        if len(pp)>1:outParts.append(pp.strip(','))\n",
      "        # Might be several comma seperated Hindi versions of name\n",
      "        if pp in [u'm','f']:\n",
      "            outParts.append(pp)\n",
      "            return [p for p in outParts if not re.search(r'[0-9]',p)]"
     ],
     "language": "python",
     "metadata": {},
     "outputs": [],
     "prompt_number": 3
    },
    {
     "cell_type": "code",
     "collapsed": false,
     "input": [
      "outFile=csv.writer(open('urdu_names.csv','w'),delimiter='\\t')\n",
      "\n",
      "tt=BeautifulSoup(text)\n",
      "extractParts(tt,outFile)"
     ],
     "language": "python",
     "metadata": {},
     "outputs": [
      {
       "output_type": "stream",
       "stream": "stdout",
       "text": [
        "unisex [u'\\xa0', u'\\u06af\\u064f\\u0644', u'\\xa0', u'm']\n",
        "unisex [u'\\xa0', u'\\u06af\\u064f\\u0644\\u0628\\u0627\\u062d\\u0627\\u0631', u'\\xa0', u'f']\n",
        "unisex [u'\\xa0', u'\\u06af\\u064f\\u0644\\u0634\\u0646', u'\\xa0', u'm']\n",
        "unisex [u'\\xa0', u'\\u06af\\u064f\\u0644\\u0632\\u0627\\u0631', u'\\xa0', u'm']\n",
        "unisex [u'\\xa0', u'\\u062e\\u0648\\u0631\\u0634\\u06cc\\u062f', u'\\xa0', u'm']\n",
        "unisex [u'\\xa0', u'\\u0646\\u0633\\u06cc\\u0645', u'\\xa0', u'm']\n",
        "unisex [u'\\xa0', u'\\u0646\\u0633\\u06cc\\u0645', u'\\xa0', u'm']\n",
        "unisex [u'\\xa0', u'\\u0646\\u0648\\u0631', u'\\xa0', u'f']\n",
        "unisex [u'\\xa0', u'\\u0646\\u0648\\u0631', u'\\xa0', u'f']\n",
        "unisex [u'\\xa0', u'\\u0634\\u06c1\\u0646\\u0627\\u0632', u'\\xa0', u'f']\n"
       ]
      }
     ],
     "prompt_number": 12
    },
    {
     "cell_type": "markdown",
     "metadata": {},
     "source": [
      "Use Beautiful Soup to grab all elements with class '_browsename'"
     ]
    },
    {
     "cell_type": "code",
     "collapsed": false,
     "input": [
      "def extractParts(text,outFile):\n",
      "    v=False\n",
      "    # Print to screen\n",
      "    \n",
      "    for e in tt.findAll(class_='browsename'):\n",
      "        entry=e.text\n",
      "        parts=entry.split(' ')\n",
      "        parts=[p for p in parts if not p in [u'',u' ']]\n",
      "            \n",
      "        if u'm' in parts or u'f' in parts:\n",
      "            outList=[]\n",
      "            for p,pp in enumerate(parts[1:]):\n",
      "                if not re.search(r'[0-9]',pp) and re.search(r'\\S',pp):\n",
      "                    # Throw out segment if it is just whitespace or contains a number\n",
      "                    if v:print pp,\n",
      "                    outList.append(pp)\n",
      "                    if pp in [u'm',u'f']:\n",
      "                        if parts[p+2]==u'&':\n",
      "\n",
      "                            outList[-1]==u'unisex'\n",
      "                                                        print 'unisex',outList\n",
      "                        outFile.writerow([part.encode('utf-8') for part in outList])\n",
      "                        if v:print ''\n",
      "                        break"
     ],
     "language": "python",
     "metadata": {},
     "outputs": [],
     "prompt_number": 11
    },
    {
     "cell_type": "code",
     "collapsed": false,
     "input": [],
     "language": "python",
     "metadata": {},
     "outputs": []
    }
   ],
   "metadata": {}
  }
 ]
}