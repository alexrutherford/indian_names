{
 "metadata": {
  "name": "",
  "signature": "sha256:e45a66278cb514b4ef2c2264b0793dd6a903e613ca9c9b9659019d7078c1a5d0"
 },
 "nbformat": 3,
 "nbformat_minor": 0,
 "worksheets": [
  {
   "cells": [
    {
     "cell_type": "code",
     "collapsed": false,
     "input": [
      "from bs4 import BeautifulSoup\n",
      "import re,csv"
     ],
     "language": "python",
     "metadata": {},
     "outputs": [],
     "prompt_number": 1
    },
    {
     "cell_type": "markdown",
     "metadata": {},
     "source": [
      "Raw pages grabbed from [Behind the Names](http://www.behindthename.com/names/usage/indian)"
     ]
    },
    {
     "cell_type": "code",
     "collapsed": false,
     "input": [
      "with open('urdu_names_1.html','r') as f:\n",
      "    text=f.read().decode('utf-8','ignore')"
     ],
     "language": "python",
     "metadata": {},
     "outputs": [],
     "prompt_number": 2
    },
    {
     "cell_type": "markdown",
     "metadata": {},
     "source": [
      "Function to ensure we grab the important parts 1. gender ('m'/'f') and 2. all Hindi spellings"
     ]
    },
    {
     "cell_type": "code",
     "collapsed": false,
     "input": [
      "def getRightParts(parts):\n",
      "    outParts=[]\n",
      "    for p,pp in enumerate(parts):\n",
      "        if p==0:outParts.append(pp)\n",
      "        # First part is always Latin version of name\n",
      "        if len(pp)>1:outParts.append(pp.strip(','))\n",
      "        # Might be several comma seperated Hindi versions of name\n",
      "        if pp in [u'm','f']:\n",
      "            outParts.append(pp)\n",
      "            return [p for p in outParts if not re.search(r'[0-9]',p)]"
     ],
     "language": "python",
     "metadata": {},
     "outputs": [],
     "prompt_number": 3
    },
    {
     "cell_type": "code",
     "collapsed": false,
     "input": [
      "outFile=csv.writer(open('urdu_names.csv','w'),delimiter='\\t')\n",
      "\n",
      "tt=BeautifulSoup(text)\n",
      "extractParts(tt,outFile)"
     ],
     "language": "python",
     "metadata": {},
     "outputs": [],
     "prompt_number": 32
    },
    {
     "cell_type": "markdown",
     "metadata": {},
     "source": [
      "Use Beautiful Soup to grab all elements with class '_browsename'"
     ]
    },
    {
     "cell_type": "code",
     "collapsed": false,
     "input": [
      "def extractParts(text,outFile):\n",
      "    v=False\n",
      "    # Print to screen\n",
      "    \n",
      "    for e in tt.findAll(class_='browsename'):\n",
      "        entry=e.text\n",
      "        parts=entry.split(' ')\n",
      "        parts=[p for p in parts if not p in [u'',u' ']]\n",
      "            \n",
      "        if u'm' in parts or u'f' in parts:\n",
      "            outList=[]\n",
      "            for p,pp in enumerate(parts[1:]):\n",
      "                if not re.search(r'[0-9]',pp) and re.search(r'\\S',pp):\n",
      "                    # Throw out segment if it is just whitespace or contains a number\n",
      "                    if v:print pp,\n",
      "                    outList.append(pp)\n",
      "                    if pp in [u'm',u'f']:\n",
      "                        outFile.writerow([part.encode('utf-8') for part in outList])\n",
      "                        if v:print ''\n",
      "                        break"
     ],
     "language": "python",
     "metadata": {},
     "outputs": [],
     "prompt_number": 31
    }
   ],
   "metadata": {}
  }
 ]
}